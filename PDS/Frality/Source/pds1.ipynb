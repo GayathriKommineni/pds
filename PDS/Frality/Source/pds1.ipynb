{
  "nbformat": 4,
  "nbformat_minor": 0,
  "metadata": {
    "colab": {
      "provenance": []
    },
    "kernelspec": {
      "name": "python3",
      "display_name": "Python 3"
    },
    "language_info": {
      "name": "python"
    }
  },
  "cells": [
    {
      "cell_type": "code",
      "execution_count": 1,
      "metadata": {
        "id": "0nhQL4hwte8p"
      },
      "outputs": [],
      "source": [
        "import pandas as pd"
      ]
    },
    {
      "cell_type": "code",
      "source": [
        "import scipy.stats as stats\n",
        "\n",
        "enc_data = pd.read_csv(\"/content/Rawdata.csv\")\n",
        "\n",
        "\n",
        "Kg_1 = enc_data[enc_data['Frailty'] == 'Y']['Weight']\n",
        "Kg_0 = enc_data[enc_data['Frailty'] == 'N']['Weight']\n",
        "\n",
        "k_stat, p_value = stats.ttest_ind(Kg_1, Kg_0)\n",
        "\n",
        "\n",
        "print(\"k-statistic:\", k_stat)\n",
        "print(\"p-value:\", p_value)\n",
        "\n",
        "alpha = 0.05\n",
        "if p_value < alpha:\n",
        "    print(\"There exists a notable variance in the strength of grip among distinct groups.\")\n",
        "else:\n",
        "    print(\"There not exists a notable variance in the strength of grip among distinct groups.\")"
      ],
      "metadata": {
        "colab": {
          "base_uri": "https://localhost:8080/"
        },
        "id": "1E9ASQ6ttl-t",
        "outputId": "1a843008-ca36-447e-e3c1-f383c131dc94"
      },
      "execution_count": 8,
      "outputs": [
        {
          "output_type": "stream",
          "name": "stdout",
          "text": [
            "k-statistic: 1.7920318220177764\n",
            "p-value: 0.11089488733773724\n",
            "There not exists a notable variance in the strength of grip among distinct groups.\n"
          ]
        }
      ]
    }
  ]
}